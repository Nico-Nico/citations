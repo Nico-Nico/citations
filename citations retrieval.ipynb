{
 "cells": [
  {
   "cell_type": "code",
   "execution_count": 218,
   "metadata": {},
   "outputs": [],
   "source": [
    "from bs4 import BeautifulSoup\n",
    "import requests"
   ]
  },
  {
   "cell_type": "code",
   "execution_count": 192,
   "metadata": {},
   "outputs": [],
   "source": [
    "# An article can appear in multiple versions. These are clustered so only\n",
    "# one reference is made for each cluster. The number is the unique id for\n",
    "# the cluster.\n",
    "cluster = 3127388215457390772\n",
    "\n",
    "# The list of articles that cites the origin is broken up in 10 pieces pr. page.\n",
    "# index denotes what article to show first.\n",
    "index = 200"
   ]
  },
  {
   "cell_type": "code",
   "execution_count": 238,
   "metadata": {},
   "outputs": [],
   "source": [
    "id = 9915400355249741730\n",
    "\n",
    "def cluster_to_data(id):\n",
    "    url = \"https://scholar.google.dk/scholar?cluster=\" + str(id)\n",
    "    r = requests.get(url)\n",
    "    html = r.text\n",
    "    soup = BeautifulSoup(html, 'html.parser')\n",
    "    \n",
    "    data = dict()\n",
    "    \n",
    "    title = soup.find(\"h3\", class_=\"gs_rt\").a.contents[0]\n",
    "    print (\"title:\", title)\n",
    "    \n",
    "    authors = []\n",
    "    # div.gs_a holds links to the authors\n",
    "    author_links = soup.find(\"div\", class_=\"gs_a\").find_all(\"a\")\n",
    "    for link in author_links:\n",
    "        authors.append(link.contents[0])\n",
    "    print(\"author(s):\", authors)"
   ]
  },
  {
   "cell_type": "code",
   "execution_count": 239,
   "metadata": {},
   "outputs": [
    {
     "name": "stdout",
     "output_type": "stream",
     "text": [
      "title: Institutions of the European Union\n",
      "author(s): ['D Hodson', 'J Peterson']\n"
     ]
    }
   ],
   "source": [
    "cluster_to_data(9915400355249741730)"
   ]
  },
  {
   "cell_type": "code",
   "execution_count": 240,
   "metadata": {},
   "outputs": [],
   "source": [
    "# An article can appear in multiple versions. These are clustered so only\n",
    "# one reference is made for each cluster. The number is the unique id for\n",
    "# the cluster.\n",
    "cluster = 3127388215457390772\n",
    "\n",
    "# The list of articles that cites the origin is broken up in 10 pieces pr. page.\n",
    "# index denotes what article to show first.\n",
    "index = 1\n",
    "\n",
    "url = \"https://scholar.google.dk/scholar?oi=bibs&cites=\" + \\\n",
    "       str(cluster) + \"&start=\" + str(index)\n",
    "r = requests.get(url)\n",
    "html = r.text\n",
    "soup = BeautifulSoup(html, 'html.parser')"
   ]
  },
  {
   "cell_type": "code",
   "execution_count": 208,
   "metadata": {},
   "outputs": [
    {
     "data": {
      "text/plain": [
       "10"
      ]
     },
     "execution_count": 208,
     "metadata": {},
     "output_type": "execute_result"
    }
   ],
   "source": [
    "# Extracts the 10 divs on the citations page\n",
    "# Each div contains information about one reference\n",
    "citation_divs = soup.find_all(\"div\", class_=\"gs_ri\")\n",
    "len(citation_divs)"
   ]
  },
  {
   "cell_type": "code",
   "execution_count": 209,
   "metadata": {},
   "outputs": [
    {
     "data": {
      "text/plain": [
       "['The New Intergovernmentalism: E uropean Integration in the Post‐Maastricht Era']"
      ]
     },
     "execution_count": 209,
     "metadata": {},
     "output_type": "execute_result"
    }
   ],
   "source": [
    "# .gs_rt is the class of the individual references that has cited the article/book\n",
    "citation_divs[0].find(\"h3\", class_=\"gs_rt\").find(\"a\").contents"
   ]
  },
  {
   "cell_type": "code",
   "execution_count": 235,
   "metadata": {},
   "outputs": [
    {
     "name": "stdout",
     "output_type": "stream",
     "text": [
      "Title: The New Intergovernmentalism: E uropean Integratio\n",
      "Title: Opting out of the European Union: diplomacy, sover\n",
      "Title: The new intergovernmentalism: states and supranati\n",
      "Title: Emergency Europe\n",
      "Title: A sociology of knowledge approach to European inte\n",
      "Title: Economic governance in Europe: comparative paradox\n",
      "Title: Why the UK voted for Brexit: David Cameron's great\n",
      "Title: The European Council: the new centre of EU politic\n",
      "Title: The European Council and European Governance: The \n",
      "Title: Key controversies in European integration\n"
     ]
    }
   ],
   "source": [
    "for reference in citation_divs:\n",
    "    print (\"Title:\", reference.find(\"h3\", class_=\"gs_rt\").find(\"a\").contents[0][:50])"
   ]
  },
  {
   "cell_type": "code",
   "execution_count": 143,
   "metadata": {},
   "outputs": [
    {
     "data": {
      "text/plain": [
       "['gs_btnPR', 'gs_in_ib', 'gs_btn_lrge', 'gs_btn_half', 'gs_btn_lsu']"
      ]
     },
     "execution_count": 143,
     "metadata": {},
     "output_type": "execute_result"
    }
   ],
   "source": [
    "soup.find(\"button\", class_=\"gs_btnPR gs_in_ib gs_btn_lrge gs_btn_half gs_btn_lsu\")[\"class\"]"
   ]
  },
  {
   "cell_type": "markdown",
   "metadata": {},
   "source": [
    "<h2>Retrieval</h2>"
   ]
  },
  {
   "cell_type": "markdown",
   "metadata": {},
   "source": [
    "<h4>Author names</h4>"
   ]
  },
  {
   "cell_type": "code",
   "execution_count": 144,
   "metadata": {},
   "outputs": [
    {
     "name": "stdout",
     "output_type": "stream",
     "text": [
      "[]\n"
     ]
    }
   ],
   "source": [
    "authors = []\n",
    "# div.gs_a holds links to the authors\n",
    "author_links = citation_divs[0].find(\"div\", class_=\"gs_a\").find_all(\"a\")\n",
    "for link in author_links:\n",
    "    authors.append(link.contents[0])\n",
    "print(authors)    "
   ]
  },
  {
   "cell_type": "code",
   "execution_count": null,
   "metadata": {},
   "outputs": [],
   "source": []
  }
 ],
 "metadata": {
  "kernelspec": {
   "display_name": "Python 3",
   "language": "python",
   "name": "python3"
  },
  "language_info": {
   "codemirror_mode": {
    "name": "ipython",
    "version": 3
   },
   "file_extension": ".py",
   "mimetype": "text/x-python",
   "name": "python",
   "nbconvert_exporter": "python",
   "pygments_lexer": "ipython3",
   "version": "3.7.1"
  }
 },
 "nbformat": 4,
 "nbformat_minor": 2
}
