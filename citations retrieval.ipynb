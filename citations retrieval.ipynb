{
 "cells": [
  {
   "cell_type": "code",
   "execution_count": 2,
   "metadata": {},
   "outputs": [],
   "source": [
    "from bs4 import BeautifulSoup\n",
    "import requests"
   ]
  },
  {
   "cell_type": "code",
   "execution_count": 78,
   "metadata": {},
   "outputs": [],
   "source": [
    "url = \"https://scholar.google.dk/scholar?start=146&hl=da&as_sdt=2005&cites=3127388215457390772&scipsc=\"\n",
    "r = requests.get(url)\n",
    "html = r.text"
   ]
  },
  {
   "cell_type": "code",
   "execution_count": 79,
   "metadata": {},
   "outputs": [],
   "source": [
    "soup = BeautifulSoup(html, 'html.parser')"
   ]
  },
  {
   "cell_type": "code",
   "execution_count": 80,
   "metadata": {},
   "outputs": [],
   "source": [
    "# Extracts the 10 divs on the citations page\n",
    "# Each div contains information about one reference\n",
    "citation_divs = soup.find_all(\"div\", class_=\"gs_ri\")"
   ]
  },
  {
   "cell_type": "code",
   "execution_count": 81,
   "metadata": {},
   "outputs": [
    {
     "data": {
      "text/plain": [
       "['The Council call to arms, Mogherini to the rescue? Are statements of intent a sign of Grand Strategy or does CSDP remain hamstrung by state inertia and\\xa0…']"
      ]
     },
     "execution_count": 81,
     "metadata": {},
     "output_type": "execute_result"
    }
   ],
   "source": [
    "citation_divs[0].find(\"h3\", class_=\"gs_rt\").find(\"a\").contents"
   ]
  },
  {
   "cell_type": "code",
   "execution_count": 82,
   "metadata": {},
   "outputs": [
    {
     "name": "stdout",
     "output_type": "stream",
     "text": [
      "['The Council call to arms, Mogherini to the rescue? Are statements of intent a sign of Grand Strategy or does CSDP remain hamstrung by state inertia and\\xa0…']\n",
      "['Differentiated integration and disintegration in the European Union: State-of-the-art and ways for future research']\n",
      "['Restructuring Democracy and the Idea of Europe']\n",
      "['Borders and Boundaries on the Balkan Route']\n",
      "['EXPLAINING THE EMERGENCE OF EUROPEAN UNION BATTLEGROUP CONCEPT: THE TEST FOR EUROPEAN INTEGRATION THEORIES']\n",
      "['The Full Brexit']\n",
      "['The European Union in the Fog']\n",
      "['European integration and the transformation of the social state']\n",
      "['Legal Theory before the Political Economy of EU Law']\n",
      "['Society, social policy and welfare: The UK in a Changing Europe scoping report']\n"
     ]
    }
   ],
   "source": [
    "for reference in citation_divs:\n",
    "    print (reference.find(\"h3\", class_=\"gs_rt\").find(\"a\").contents)"
   ]
  },
  {
   "cell_type": "code",
   "execution_count": 75,
   "metadata": {},
   "outputs": [
    {
     "data": {
      "text/plain": [
       "<button aria-label=\"Næste\" class=\"gs_btnPR gs_in_ib gs_btn_lrge gs_btn_half gs_btn_lsu\" onclick=\"window.location='/scholar?start\\x3d20\\x26hl\\x3dda\\x26oe\\x3dASCII\\x26as_sdt\\x3d2005\\x26cites\\x3d3127388215457390772\\x26scipsc\\x3d'\" type=\"button\"><span class=\"gs_wr\"><span class=\"gs_ico\"></span><span class=\"gs_lbl\"></span></span></button>"
      ]
     },
     "execution_count": 75,
     "metadata": {},
     "output_type": "execute_result"
    }
   ],
   "source": [
    "soup.find(\"button\", class_=\"gs_btnPR gs_in_ib gs_btn_lrge gs_btn_half gs_btn_lsu\")"
   ]
  },
  {
   "cell_type": "code",
   "execution_count": null,
   "metadata": {},
   "outputs": [],
   "source": []
  }
 ],
 "metadata": {
  "kernelspec": {
   "display_name": "Python [conda env:anaconda]",
   "language": "python",
   "name": "conda-env-anaconda-py"
  },
  "language_info": {
   "codemirror_mode": {
    "name": "ipython",
    "version": 3
   },
   "file_extension": ".py",
   "mimetype": "text/x-python",
   "name": "python",
   "nbconvert_exporter": "python",
   "pygments_lexer": "ipython3",
   "version": "3.5.5"
  }
 },
 "nbformat": 4,
 "nbformat_minor": 2
}
